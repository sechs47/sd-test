{
  "nbformat": 4,
  "nbformat_minor": 0,
  "metadata": {
    "colab": {
      "provenance": [],
      "gpuType": "T4"
    },
    "kernelspec": {
      "name": "python3",
      "display_name": "Python 3"
    },
    "language_info": {
      "name": "python"
    },
    "accelerator": "GPU"
  },
  "cells": [
    {
      "cell_type": "markdown",
      "source": [
        "### 1. INSTALACION DE APP"
      ],
      "metadata": {
        "id": "w--Ek1DgpwUm"
      }
    },
    {
      "cell_type": "code",
      "execution_count": null,
      "metadata": {
        "id": "_awkQS9nw5nd"
      },
      "outputs": [],
      "source": [
        "#PRE-REQUERIMIENTOS#\n",
        "%cd /content\n",
        "from IPython.display import clear_output\n",
        "%env TF_CPP_MIN_LOG_LEVEL=1\n",
        "!curl -Lo memfix.zip                                                              https://huggingface.co/josemerinom/zyx/resolve/main/memfix.zip\n",
        "!unzip /content/memfix.zip\n",
        "!apt -y install -qq libunwind8-dev libcairo2-dev libcairo2-dev pkg-config python3-dev aria2\n",
        "!dpkg -i *.deb\n",
        "%env LD_PRELOAD=libtcmalloc.so\n",
        "!rm *.deb\n",
        "!pip install fastapi torch torchvision torchaudio torchtext torchdata torchmetrics pytorch-lightning xformers triton tensorflow gradio\n",
        "#APP 1.4.0#\n",
        "!curl -Lo zyx.zip                                                                 https://huggingface.co/josemerinom/zyx/resolve/main/zyx.zip\n",
        "!unzip /content/zyx.zip\n",
        "#VAE#\n",
        "!curl -Lo /content/zyx/models/VAE/vae.ckpt                                        https://huggingface.co/josemerinom/models/resolve/main/baseVae.ckpt\n",
        "#CREAR CARPETA LORA#\n",
        "!mkdir /content/zyx/models/Lora\n",
        "#EXTENSION: CONTROLNET#\n",
        "!curl -Lo /content/zyx/extensions/control.zip                                     https://huggingface.co/josemerinom/zyx/resolve/main/control.zip\n",
        "%cd /content/zyx/extensions\n",
        "!unzip /content/zyx/extensions/control.zip\n",
        "#EXTENSION: CONTROL MODEL#\n",
        "!curl -Lo /content/zyx/extensions/control/models/control_v11p_sd15_openpose.pth   https://huggingface.co/josemerinom/zyx/resolve/main/control_v11p_sd15_openpose.pth\n",
        "!curl -Lo /content/zyx/extensions/control/models/control_v11f1e_sd15_tile.pth     https://huggingface.co/josemerinom/zyx/resolve/main/control_v11f1e_sd15_tile.pth\n",
        "#SCRIPT#\n",
        "!curl -Lo /content/zyx/scripts/ultimate-upscale.py                                https://huggingface.co/josemerinom/zyx/resolve/main/ultimate-upscale.py\n",
        "#ESRGAN: 4KULTRASHARP#\n",
        "!mkdir /content/zyx/models/ESRGAN\n",
        "!curl -Lo /content/zyx/models/ESRGAN/4x-UltraSharp.pth                            https://huggingface.co/josemerinom/zyx/resolve/main/4x-UltraSharp.pth\n",
        "#EXTENSION: ROOP#\n",
        "!pip install insightface\n",
        "!curl -Lo /content/zyx/extensions/roop.zip                                        https://huggingface.co/josemerinom/zyx/resolve/main/roop.zip\n",
        "%cd /content/zyx/extensions\n",
        "!unzip /content/zyx/extensions/roop.zip\n",
        "clear_output()\n",
        "print('OK')"
      ]
    },
    {
      "cell_type": "markdown",
      "source": [
        "### 2. MODELOS"
      ],
      "metadata": {
        "id": "BOxvHTR5r7Ek"
      }
    },
    {
      "cell_type": "code",
      "source": [
        "#MODELOS#\n",
        "!curl -Lo /content/zyx/models/Stable-diffusion/ChillOutMix.safetensors            https://civitai.com/api/download/models/11745\n",
        "!curl -Lo /content/zyx/models/Stable-diffusion/RealisticVision.safetensors        https://civitai.com/api/download/models/105674"
      ],
      "metadata": {
        "id": "C-q93KLssClX"
      },
      "execution_count": null,
      "outputs": []
    },
    {
      "cell_type": "markdown",
      "source": [
        "### 3. LORA"
      ],
      "metadata": {
        "id": "RFdlWWRhsIhp"
      }
    },
    {
      "cell_type": "code",
      "source": [
        "#LORA#\n",
        "!curl -Lo /content/zyx/models/Lora/easynegative.safetensors                       https://civitai.com/api/download/models/9208"
      ],
      "metadata": {
        "id": "bjbA8NQMsLQD"
      },
      "execution_count": null,
      "outputs": []
    },
    {
      "cell_type": "markdown",
      "source": [
        "### 4. INICIAR APP"
      ],
      "metadata": {
        "id": "n9PyTJtqqBRS"
      }
    },
    {
      "cell_type": "code",
      "source": [
        "#INICIAR APP#\n",
        "%cd /content/zyx\n",
        "!COMMANDLINE_ARGS=\"--share --disable-safe-unpickle --xformers --no-half-vae --enable-insecure-extension-access --gradio-queue\" python launch.py"
      ],
      "metadata": {
        "id": "rTaWaKCBDyCJ"
      },
      "execution_count": null,
      "outputs": []
    }
  ]
}