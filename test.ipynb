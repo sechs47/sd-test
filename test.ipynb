{
  "nbformat": 4,
  "nbformat_minor": 0,
  "metadata": {
    "colab": {
      "provenance": [],
      "gpuType": "T4"
    },
    "kernelspec": {
      "name": "python3",
      "display_name": "Python 3"
    },
    "language_info": {
      "name": "python"
    },
    "accelerator": "GPU"
  },
  "cells": [
    {
      "cell_type": "code",
      "execution_count": null,
      "metadata": {
        "id": "_awkQS9nw5nd"
      },
      "outputs": [],
      "source": [
        "#PRE-REQUIREMENTS & APP#\n",
        "%cd /content\n",
        "from IPython.display import clear_output\n",
        "%env TF_CPP_MIN_LOG_LEVEL=1\n",
        "!apt -y update -qq\n",
        "!curl -Lo memfix.zip https://huggingface.co/josemerinom/zyx/resolve/main/memfix.zip\n",
        "!unzip /content/memfix.zip\n",
        "!apt -y install -qq libunwind8-dev\n",
        "!apt -y install -qq aria2\n",
        "!apt -y install -qq libcairo2-dev\n",
        "!apt -y install -qq pkg-config\n",
        "!apt -y install -qq python3-dev\n",
        "!dpkg -i *.deb\n",
        "%env LD_PRELOAD=libtcmalloc.so\n",
        "!rm *.deb\n",
        "!pip install torch torchvision torchaudio torchtext torchdata\n",
        "!pip install pytorch-lightning\n",
        "!pip install xformers\n",
        "!pip install triton\n",
        "clear_output()\n",
        "print('Done')"
      ]
    },
    {
      "cell_type": "code",
      "source": [
        "#APP 1.4.0#\n",
        "!curl -Lo zyx.zip https://huggingface.co/josemerinom/zyx/resolve/main/zyx.zip\n",
        "!unzip /content/zyx.zip\n",
        "clear_output()\n",
        "print('Done')"
      ],
      "metadata": {
        "id": "SYXKDGQg1Kvw"
      },
      "execution_count": null,
      "outputs": []
    },
    {
      "cell_type": "code",
      "source": [
        "#MODEL#\n",
        "!curl -Lo /content/zyx/models/Stable-diffusion/chilloutmix.safetensors https://huggingface.co/josemerinom/models/resolve/main/chilloutmix32.safetensors\n",
        "clear_output()\n",
        "print('Done')"
      ],
      "metadata": {
        "id": "ZfvGIBKbD854"
      },
      "execution_count": null,
      "outputs": []
    },
    {
      "cell_type": "code",
      "source": [
        "#VAE#\n",
        "!curl -Lo /content/zyx/models/VAE/vae.ckpt https://huggingface.co/josemerinom/models/resolve/main/baseVae.ckpt\n",
        "clear_output()\n",
        "print('Done')"
      ],
      "metadata": {
        "id": "EfHjIm14EUrI"
      },
      "execution_count": null,
      "outputs": []
    },
    {
      "cell_type": "code",
      "source": [
        "#LORA#\n",
        "!mkdir /content/zyx/models/Lora\n",
        "!curl -Lo /content/zyx/models/Lora/easynegative.safetensors https://civitai.com/api/download/models/9208?type=Model&format=SafeTensor&size=full&fp=fp16\n",
        "clear_output()\n",
        "print('Done')"
      ],
      "metadata": {
        "id": "N6mAGAzoEd92"
      },
      "execution_count": null,
      "outputs": []
    },
    {
      "cell_type": "code",
      "source": [
        "#EXTENSION: CONTROL#\n",
        "!curl -Lo /content/zyx/extensions/control.zip https://huggingface.co/josemerinom/zyx/resolve/main/control.zip\n",
        "%cd /content/zyx/extensions\n",
        "!unzip /content/zyx/extensions/control.zip\n",
        "clear_output()\n",
        "print('Done')"
      ],
      "metadata": {
        "id": "Wa_Jg2a4Eqwh"
      },
      "execution_count": null,
      "outputs": []
    },
    {
      "cell_type": "code",
      "source": [
        "#EXTENSION: CONTROL MODEL#\n",
        "!curl -Lo /content/zyx/extensions/control/models/control_v11f1e_sd15_tile.pth https://huggingface.co/josemerinom/zyx/resolve/main/control_v11f1e_sd15_tile.pth\n",
        "clear_output()\n",
        "print('Done')"
      ],
      "metadata": {
        "id": "7i1iORLNEvOP"
      },
      "execution_count": null,
      "outputs": []
    },
    {
      "cell_type": "code",
      "source": [
        "#SCRIPT#\n",
        "!curl -Lo /content/zyx/scripts/ultimate-upscale.py https://huggingface.co/josemerinom/zyx/resolve/main/ultimate-upscale.py\n",
        "clear_output()\n",
        "print('Done')"
      ],
      "metadata": {
        "id": "B-bbzYTFFDKn"
      },
      "execution_count": null,
      "outputs": []
    },
    {
      "cell_type": "code",
      "source": [
        "#ESRGAN: 4KULTRASHARP#\n",
        "!mkdir /content/zyx/models/ESRGAN\n",
        "!curl -Lo /content/zyx/models/ESRGAN/4x-UltraSharp.pth https://huggingface.co/josemerinom/zyx/resolve/main/4x-UltraSharp.pth\n",
        "clear_output()\n",
        "print('Done')"
      ],
      "metadata": {
        "id": "qkLmyW8PFHk9"
      },
      "execution_count": null,
      "outputs": []
    },
    {
      "cell_type": "code",
      "source": [
        "#EXTENSION: ROOP#\n",
        "!pip install insightface\n",
        "!curl -Lo /content/zyx/extensions/roop.zip https://huggingface.co/josemerinom/zyx/resolve/main/roop.zip\n",
        "%cd /content/zyx/extensions\n",
        "!unzip /content/zyx/extensions/roop.zip\n",
        "clear_output()\n",
        "print('Done')"
      ],
      "metadata": {
        "id": "RjsMVfMa3pal"
      },
      "execution_count": null,
      "outputs": []
    },
    {
      "cell_type": "code",
      "source": [
        "%cd /content/zyx\n",
        "!COMMANDLINE_ARGS=\"--share --disable-safe-unpickle --xformers --no-half-vae --enable-insecure-extension-access --gradio-queue\" python launch.py"
      ],
      "metadata": {
        "id": "rTaWaKCBDyCJ"
      },
      "execution_count": null,
      "outputs": []
    }
  ]
}