{
  "nbformat": 4,
  "nbformat_minor": 0,
  "metadata": {
    "colab": {
      "provenance": [],
      "gpuType": "T4"
    },
    "kernelspec": {
      "name": "python3",
      "display_name": "Python 3"
    },
    "language_info": {
      "name": "python"
    },
    "accelerator": "GPU"
  },
  "cells": [
    {
      "cell_type": "code",
      "source": [
        "#@markdown ####1. INSTALAR PRE-REQUESITOS\n",
        "%cd /content\n",
        "from IPython.display import clear_output\n",
        "%env TF_CPP_MIN_LOG_LEVEL=1\n",
        "!curl -Lo memfix.zip https://huggingface.co/josemerinom/zyx/resolve/main/memfix.zip\n",
        "!unzip /content/memfix.zip\n",
        "!apt -y install -qq libunwind8-dev libcairo2-dev pkg-config python3-dev aria2\n",
        "!dpkg -i *.deb\n",
        "%env LD_PRELOAD=libtcmalloc.so\n",
        "!rm *.deb\n",
        "!pip install torch torchvision torchaudio torchtext torchdata torchmetrics pytorch-lightning xformers\n",
        "clear_output()\n",
        "print('OK')"
      ],
      "metadata": {
        "cellView": "form",
        "id": "9ZGmhmVmR2lc"
      },
      "execution_count": null,
      "outputs": []
    },
    {
      "cell_type": "code",
      "execution_count": null,
      "metadata": {
        "id": "_awkQS9nw5nd",
        "cellView": "form"
      },
      "outputs": [],
      "source": [
        "#@markdown ####2. INSTALAR APP 1.4.0\n",
        "!curl -Lo zyx.zip https://huggingface.co/josemerinom/zyx/resolve/main/zyx.zip\n",
        "!unzip /content/zyx.zip\n",
        "!mkdir /content/zyx/models/Lora\n",
        "!mkdir /content/zyx/models/ESRGAN\n",
        "!mkdir /content/zyx/extensions/control/\n",
        "!mkdir /content/zyx/extensions/control/models\n",
        "!curl -Lo /content/zyx/scripts/ultimate-upscale.py https://huggingface.co/josemerinom/zyx/resolve/main/ultimate-upscale.pyhttps://huggingface.co/josemerinom/zyx/resolve/main/ultimate-upscale.py\n",
        "!curl -Lo /content/zyx/models/ESRGAN/4x-UltraSharp.pth https://huggingface.co/josemerinom/zyx/resolve/main/4x-UltraSharp.pth\n",
        "!curl -Lo /content/zyx/embeddings/easynegative.safetensors https://huggingface.co/josemerinom/zyx/resolve/main/easynegative.safetensors\n",
        "clear_output()\n",
        "print('OK')"
      ]
    },
    {
      "cell_type": "code",
      "source": [
        "#@markdown ####3. DESCARGAR MODELO\n",
        "ChilloutMix = False #@param {type:\"boolean\"}\n",
        "EpicRealism = False #@param {type:\"boolean\"}\n",
        "GhostMix = False #@param {type:\"boolean\"}\n",
        "RealisticVision = True #@param {type:\"boolean\"}\n",
        "Link_Modelo = \"\" #@param {type:\"string\"}\n",
        "no_model = True\n",
        "l_chilloutmix = \"https://civitai.com/api/download/models/11745\"\n",
        "l_epicrealism = \"https://civitai.com/api/download/models/105035\"\n",
        "l_ghostmix = \"https://civitai.com/api/download/models/76907\"\n",
        "l_realisticvision = \"https://civitai.com/api/download/models/105674\"\n",
        "#SI NO INDICA MODELO POR DEFECTO: RealisticVision 2.0\n",
        "l_defecto = \"https://civitai.com/api/download/models/105674\"\n",
        "if ChilloutMix:\n",
        "  !wget $l_chilloutmix --content-disposition -P /content/zyx/models/Stable-diffusion/\n",
        "  no_model = False\n",
        "if EpicRealism:\n",
        "  !wget $l_epicrealism --content-disposition -P /content/zyx/models/Stable-diffusion/\n",
        "  no_model = False\n",
        "if GhostMix:\n",
        "  !wget $l_ghostmix --content-disposition -P /content/zyx/models/Stable-diffusion/\n",
        "  no_model = False\n",
        "if RealisticVision:\n",
        "  !wget $l_realisticvision --content-disposition -P /content/zyx/models/Stable-diffusion/\n",
        "  no_model = False\n",
        "if Link_Modelo != \"\":\n",
        "  !wget $Link_Modelo --content-disposition -P /content/zyx/models/Stable-diffusion/\n",
        "  no_model = False\n",
        "if no_model:\n",
        "  clear_output()\n",
        "  !wget $l_defecto --content-disposition -P /content/zyx/models/Stable-diffusion/\n",
        "clear_output()\n",
        "print('OK')"
      ],
      "metadata": {
        "id": "C-q93KLssClX",
        "cellView": "form"
      },
      "execution_count": null,
      "outputs": []
    },
    {
      "cell_type": "code",
      "source": [
        "#@markdown ####4. DESCARGAR VAE (Opcional)\n",
        "Descargar_Vae = True #@param {type:\"boolean\"}\n",
        "if Descargar_Vae:\n",
        "  !curl -Lo /content/zyx/models/VAE/vae.ckpt https://huggingface.co/josemerinom/zyx/resolve/main/vae.ckpt\n",
        "clear_output()\n",
        "print('OK')"
      ],
      "metadata": {
        "cellView": "form",
        "id": "MNo5x-Ci1kNc"
      },
      "execution_count": null,
      "outputs": []
    },
    {
      "cell_type": "code",
      "source": [
        "#@markdown ####5. DESCARGAR LORA\n",
        "Link_Lora_1 = \"\" #@param {type:\"string\"}\n",
        "Link_Lora_2 = \"\" #@param {type:\"string\"}\n",
        "Link_Lora_3 = \"\" #@param {type:\"string\"}\n",
        "Link_Lora_4 = \"\" #@param {type:\"string\"}\n",
        "Link_Lora_5 = \"\" #@param {type:\"string\"}\n",
        "if Link_Lora_1 != \"\":\n",
        "  !wget $Link_Lora_1 --content-disposition -P /content/zyx/models/Lora\n",
        "if Link_Lora_2 != \"\":\n",
        "  !wget $Link_Lora_2 --content-disposition -P /content/zyx/models/Lora\n",
        "if Link_Lora_3 != \"\":\n",
        "  !wget $Link_Lora_3 --content-disposition -P /content/zyx/models/Lora\n",
        "if Link_Lora_4 != \"\":\n",
        "  !wget $Link_Lora_4 --content-disposition -P /content/zyx/models/Lora\n",
        "if Link_Lora_5 != \"\":\n",
        "  !wget $Link_Lora_5 --content-disposition -P /content/zyx/models/Lora\n",
        "clear_output()\n",
        "print('OK')"
      ],
      "metadata": {
        "id": "bjbA8NQMsLQD",
        "cellView": "form"
      },
      "execution_count": null,
      "outputs": []
    },
    {
      "cell_type": "code",
      "source": [
        "#@markdown ####7. DESCARGAR EXTENSION: ROOP (Opcional)\n",
        "Descargar_Roop = True #@param {type:\"boolean\"}\n",
        "if Descargar_Roop:\n",
        "  !curl -Lo /content/zyx/extensions/roop.zip https://huggingface.co/josemerinom/zyx/resolve/main/roop.zip\n",
        "  %cd /content/zyx/extensions\n",
        "  !unzip /content/zyx/extensions/roop.zip\n",
        "  !pip install insightface\n",
        "clear_output()\n",
        "print('OK')"
      ],
      "metadata": {
        "cellView": "form",
        "id": "-tRhsU6Zd-0i"
      },
      "execution_count": null,
      "outputs": []
    },
    {
      "cell_type": "code",
      "source": [
        "#@markdown ####6. INICIAR APP\n",
        "%cd /content/zyx\n",
        "!COMMANDLINE_ARGS=\"--share --disable-safe-unpickle --xformers --no-half-vae --enable-insecure-extension-access --gradio-queue\" python launch.py"
      ],
      "metadata": {
        "id": "rTaWaKCBDyCJ",
        "cellView": "form"
      },
      "execution_count": null,
      "outputs": []
    }
  ]
}