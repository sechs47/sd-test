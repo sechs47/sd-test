{
  "nbformat": 4,
  "nbformat_minor": 0,
  "metadata": {
    "colab": {
      "provenance": [],
      "gpuType": "T4"
    },
    "kernelspec": {
      "name": "python3",
      "display_name": "Python 3"
    },
    "language_info": {
      "name": "python"
    }
  },
  "cells": [
    {
      "cell_type": "code",
      "source": [
        "#@markdown ####1. INSTALAR PRE-REQUESITOS\n",
        "#PRE-REQUERIMIENTOS\n",
        "from IPython.utils import capture\n",
        "from IPython.display import clear_output\n",
        "!pip install wget\n",
        "%cd /content\n",
        "%env TF_CPP_MIN_LOG_LEVEL=1\n",
        "import os\n",
        "import wget\n",
        "!wget https://huggingface.co/josemerinom/zyx/resolve/main/memfix.zip --content-disposition -P /content/\n",
        "!unzip /content/memfix.zip\n",
        "!apt -y install -qq libunwind8-dev libcairo2-dev libcairo2-dev pkg-config python3-dev aria2\n",
        "!dpkg -i *.deb\n",
        "%env LD_PRELOAD=libtcmalloc.so\n",
        "!rm *.deb\n",
        "!pip install torch torchvision torchaudio torchtext torchdata torchmetrics pytorch-lightning xformers\n",
        "clear_output()\n",
        "print('OK')"
      ],
      "metadata": {
        "cellView": "form",
        "id": "9ZGmhmVmR2lc"
      },
      "execution_count": null,
      "outputs": []
    },
    {
      "cell_type": "code",
      "execution_count": null,
      "metadata": {
        "id": "_awkQS9nw5nd",
        "cellView": "form"
      },
      "outputs": [],
      "source": [
        "#@markdown ####2. INSTALAR APP 1.4.0\n",
        "#APP 1.4.0\n",
        "!wget https://huggingface.co/josemerinom/zyx/resolve/main/zyx.zip --content-disposition -P /content/\n",
        "!unzip /content/zyx.zip\n",
        "#CREAR CARPETA LORA\n",
        "!mkdir /content/zyx/models/Lora\n",
        "#CREAR CARPETA ESRGAN\n",
        "!mkdir /content/zyx/models/ESRGAN\n",
        "#CREAR CARPETA MODELS CONTROL NET\n",
        "!mkdir /content/zyx/extensions/control/\n",
        "!mkdir /content/zyx/extensions/control/models\n",
        "clear_output()\n",
        "print('OK')"
      ]
    },
    {
      "cell_type": "code",
      "source": [
        "#@markdown ####3. MODELO\n",
        "ChilloutMix = False #@param {type:\"boolean\"}\n",
        "EpicRealism = False #@param {type:\"boolean\"}\n",
        "GhostMix = False #@param {type:\"boolean\"}\n",
        "RealisticVision = True #@param {type:\"boolean\"}\n",
        "Link_Modelo = \"\" #@param {type:\"string\"}\n",
        "l_chilloutmix = \"https://civitai.com/api/download/models/11745\"\n",
        "l_epicrealism = \"https://civitai.com/api/download/models/105035\"\n",
        "l_ghostmix = \"https://civitai.com/api/download/models/76907\"\n",
        "l_realisticvision = \"https://civitai.com/api/download/models/105674\"\n",
        "#SI NO INDICA MODELO POR DEFECTO: RealisticVision 2.0\n",
        "l_defecto = \"https://civitai.com/api/download/models/105674\"\n",
        "if ChilloutMix:\n",
        "  !wget $l_chilloutmix --content-disposition -P /content/zyx/models/Stable-diffusion/\n",
        "if EpicRealism:\n",
        "  !wget $l_epicrealism --content-disposition -P /content/zyx/models/Stable-diffusion/\n",
        "if GhostMix:\n",
        "  !wget $l_ghostmix --content-disposition -P /content/zyx/models/Stable-diffusion/\n",
        "if RealisticVision:\n",
        "  !wget $l_realisticvision --content-disposition -P /content/zyx/models/Stable-diffusion/\n",
        "if Link_Modelo != \"\":\n",
        "  !wget $Link_Modelo --content-disposition -P /content/zyx/models/Stable-diffusion/\n",
        "if len(os.listdir(\"/content/zyx/models/Stable-diffusion\")) == 0:\n",
        "  clear_output()\n",
        "  !wget $l_defecto --content-disposition -P /content/zyx/models/Stable-diffusion/\n",
        "clear_output()\n",
        "print('OK')"
      ],
      "metadata": {
        "id": "C-q93KLssClX",
        "cellView": "form"
      },
      "execution_count": null,
      "outputs": []
    },
    {
      "cell_type": "code",
      "source": [
        "#@markdown ####4. VAE (Opcional)\n",
        "Instalar_Vae = True #@param {type:\"boolean\"}\n",
        "l_vae = \"https://huggingface.co/josemerinom/models/resolve/main/Vae.ckpt\"\n",
        "if Instalar_Vae:\n",
        "  !wget $l_vae --content-disposition -P /content/zyx/models/VAE/\n",
        "clear_output()\n",
        "print('OK')"
      ],
      "metadata": {
        "cellView": "form",
        "id": "MNo5x-Ci1kNc"
      },
      "execution_count": null,
      "outputs": []
    },
    {
      "cell_type": "code",
      "source": [
        "#@markdown ####5. CONTROL NET (Opcional)\n",
        "Instalar_ControlNet = True #@param {type:\"boolean\"}\n",
        "l_control = \"https://huggingface.co/josemerinom/zyx/resolve/main/control.zip\"\n",
        "if Instalar_ControlNet:\n",
        "  !wget $l_control --content-disposition -P /content/zyx/extensions/\n",
        "  %cd /content/zyx/extensions\n",
        "  !unzip /content/zyx/extensions/control.zip\n",
        "clear_output()\n",
        "print('OK')"
      ],
      "metadata": {
        "cellView": "form",
        "id": "U-LlV2PmvlH1"
      },
      "execution_count": null,
      "outputs": []
    },
    {
      "cell_type": "code",
      "source": [
        "#@markdown ####6. MODELOS DE CONTROL NET (Opcional)\n",
        "canny = False #@param {type:\"boolean\"}\n",
        "depth = False #@param {type:\"boolean\"}\n",
        "inpaint = False #@param {type:\"boolean\"}\n",
        "ip2p = False #@param {type:\"boolean\"}\n",
        "lineart = False #@param {type:\"boolean\"}\n",
        "lineart_anime = False #@param {type:\"boolean\"}\n",
        "mlsd = False #@param {type:\"boolean\"}\n",
        "normalbae = False #@param {type:\"boolean\"}\n",
        "openpose = True #@param {type:\"boolean\"}\n",
        "scribble = False #@param {type:\"boolean\"}\n",
        "seg = False #@param {type:\"boolean\"}\n",
        "shuffle = False #@param {type:\"boolean\"}\n",
        "softedge = False #@param {type:\"boolean\"}\n",
        "tile = False #@param {type:\"boolean\"}\n",
        "l_canny = \"https://huggingface.co/josemerinom/control/resolve/main/control_canny.pth\"\n",
        "l_depth = \"https://huggingface.co/josemerinom/control/resolve/main/control_depth.pth\"\n",
        "l_inpaint = \"https://huggingface.co/josemerinom/control/resolve/main/control_inpaint.pth\"\n",
        "l_ip2p = \"https://huggingface.co/josemerinom/control/resolve/main/control_ip2p.pth\"\n",
        "l_lineart = \"https://huggingface.co/josemerinom/control/resolve/main/control_lineart.pth\"\n",
        "l_lineart_anime = \"https://huggingface.co/josemerinom/control/resolve/main/control_lineart_anime.pth\"\n",
        "l_mlsd = \"https://huggingface.co/josemerinom/control/resolve/main/control_mlsd.pth\"\n",
        "l_normalbae = \"https://huggingface.co/josemerinom/control/resolve/main/control_normalbae.pth\"\n",
        "l_openpose = \"https://huggingface.co/josemerinom/control/resolve/main/control_openpose.pth\"\n",
        "l_scribble = \"https://huggingface.co/josemerinom/control/resolve/main/control_scribble.pth\"\n",
        "l_seg = \"https://huggingface.co/josemerinom/control/resolve/main/control_seg.pth\"\n",
        "l_shuffle = \"https://huggingface.co/josemerinom/control/resolve/main/control_shuffle.pth\"\n",
        "l_softedge = \"https://huggingface.co/josemerinom/control/resolve/main/control_softedge.pth\"\n",
        "l_tile = \"https://huggingface.co/josemerinom/control/resolve/main/control_tile.pth\"\n",
        "if canny:\n",
        "  !wget $l_canny --content-disposition -P /content/zyx/extensions/control/models/\n",
        "if depth:\n",
        "  !wget $l_depth --content-disposition -P /content/zyx/extensions/control/models/\n",
        "if inpaint:\n",
        "  !wget $l_inpaint --content-disposition -P /content/zyx/extensions/control/models/\n",
        "if ip2p:\n",
        "  !wget $l_ip2p --content-disposition -P /content/zyx/extensions/control/models/\n",
        "if lineart:\n",
        "  !wget $l_lineart --content-disposition -P /content/zyx/extensions/control/models/\n",
        "if lineart_anime:\n",
        "  !wget $l_lineart_anime --content-disposition -P /content/zyx/extensions/control/models/\n",
        "if mlsd:\n",
        "  !wget $l_mlsd --content-disposition -P /content/zyx/extensions/control/models/\n",
        "if normalbae:\n",
        "  !wget $l_normalbae --content-disposition -P /content/zyx/extensions/control/models/\n",
        "if openpose:\n",
        "  !wget $l_openpose --content-disposition -P /content/zyx/extensions/control/models/\n",
        "if scribble:\n",
        "  !wget $l_scribble --content-disposition -P /content/zyx/extensions/control/models/\n",
        "if seg:\n",
        "  !wget -N $l_seg --content-disposition -P /content/zyx/extensions/control/models/\n",
        "if shuffle:\n",
        "  !wget $l_shuffle --content-disposition -P /content/zyx/extensions/control/models/\n",
        "if softedge:\n",
        "  !wget $l_softedge --content-disposition -P /content/zyx/extensions/control/models/\n",
        "if tile:\n",
        "  !wget $l_tile --content-disposition -P /content/zyx/extensions/control/models/\n",
        "clear_output()\n",
        "print('OK')"
      ],
      "metadata": {
        "cellView": "form",
        "id": "DyzKrSSZI_F_"
      },
      "execution_count": null,
      "outputs": []
    },
    {
      "cell_type": "code",
      "source": [
        "#@markdown ####7. EXTRAS (Opcional)\n",
        "UltimateUpscale = False #@param {type:\"boolean\"}\n",
        "x4xUltraSharp = False #@param {type:\"boolean\"}\n",
        "easynegative = False #@param {type:\"boolean\"}\n",
        "Roop = False #@param {type:\"boolean\"}\n",
        "l_ultimateupscale = \"https://huggingface.co/josemerinom/zyx/resolve/main/ultimate-upscale.py\"\n",
        "l_4xultrasharp = \"https://huggingface.co/josemerinom/zyx/resolve/main/4x-UltraSharp.pth\"\n",
        "l_easynegative = \"https://civitai.com/api/download/models/9208\"\n",
        "l_roop = \"https://huggingface.co/josemerinom/zyx/resolve/main/roop.zip\"\n",
        "if UltimateUpscale:\n",
        "  !wget $l_ultimateupscale --content-disposition -P /content/zyx/scripts/\n",
        "if x4xUltraSharp:\n",
        "  !wget $l_4xultrasharp --content-disposition -P /content/zyx/models/ESRGAN/\n",
        "if easynegative:\n",
        "  !wget $l_easynegative --content-disposition -P /content/zyx/embeddings\n",
        "if Roop:\n",
        "  !pip install insightface\n",
        "  !wget $l_roop --content-disposition -P /content/zyx/extensions/\n",
        "  %cd /content/zyx/extensions\n",
        "  !unzip /content/zyx/extensions/roop.zip\n",
        "clear_output()\n",
        "print('OK')"
      ],
      "metadata": {
        "cellView": "form",
        "id": "V_b_0amh1UZl"
      },
      "execution_count": null,
      "outputs": []
    },
    {
      "cell_type": "code",
      "source": [
        "#@markdown ####8. LORA\n",
        "Link_Lora_1 = \"\" #@param {type:\"string\"}\n",
        "Link_Lora_2 = \"\" #@param {type:\"string\"}\n",
        "Link_Lora_3 = \"\" #@param {type:\"string\"}\n",
        "Link_Lora_4 = \"\" #@param {type:\"string\"}\n",
        "Link_Lora_5 = \"\" #@param {type:\"string\"}\n",
        "if Link_Lora_1 != \"\":\n",
        "  !wget $Link_Lora_1 --content-disposition -P /content/zyx/models/Lora\n",
        "if Link_Lora_2 != \"\":\n",
        "  !wget $Link_Lora_2 --content-disposition -P /content/zyx/models/Lora\n",
        "if Link_Lora_3 != \"\":\n",
        "  !wget $Link_Lora_3 --content-disposition -P /content/zyx/models/Lora\n",
        "if Link_Lora_4 != \"\":\n",
        "  !wget $Link_Lora_4 --content-disposition -P /content/zyx/models/Lora\n",
        "if Link_Lora_5 != \"\":\n",
        "  !wget $Link_Lora_5 --content-disposition -P /content/zyx/models/Lora\n",
        "clear_output()\n",
        "print('OK')"
      ],
      "metadata": {
        "id": "bjbA8NQMsLQD",
        "cellView": "form"
      },
      "execution_count": null,
      "outputs": []
    },
    {
      "cell_type": "code",
      "source": [
        "#@markdown ####9. INICIAR APP\n",
        "%cd /content/zyx\n",
        "!COMMANDLINE_ARGS=\"--share --disable-safe-unpickle --skip-torch-cuda-test --xformers --no-half-vae --enable-insecure-extension-access --gradio-queue\" python launch.py"
      ],
      "metadata": {
        "id": "rTaWaKCBDyCJ"
      },
      "execution_count": null,
      "outputs": []
    }
  ]
}