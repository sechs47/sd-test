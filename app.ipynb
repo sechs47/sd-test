{
  "nbformat": 4,
  "nbformat_minor": 0,
  "metadata": {
    "colab": {
      "provenance": [],
      "gpuType": "T4"
    },
    "kernelspec": {
      "name": "python3",
      "display_name": "Python 3"
    },
    "language_info": {
      "name": "python"
    },
    "accelerator": "GPU"
  },
  "cells": [
    {
      "cell_type": "code",
      "execution_count": null,
      "metadata": {
        "id": "_awkQS9nw5nd"
      },
      "outputs": [],
      "source": [
        "!curl -Lo memfix.zip https://huggingface.co/josemerinom/test/resolve/main/test_memfix.zip\n",
        "!unzip /content/memfix.zip\n",
        "!apt install -qq libunwind8-dev\n",
        "!apt install -qq libcairo2-dev pkg-config python3-dev\n",
        "!dpkg -i *.deb\n",
        "%env LD_PRELOAD=libtcmalloc.so"
      ]
    },
    {
      "cell_type": "code",
      "source": [
        "!curl -Lo test.zip https://huggingface.co/josemerinom/test/resolve/main/test_132.zip\n",
        "!unzip /content/test.zip\n",
        "%cd /content\n",
        "#!rm memfix.zip\n",
        "#!rm test.zip"
      ],
      "metadata": {
        "id": "amK6eCK8ooXR"
      },
      "execution_count": null,
      "outputs": []
    },
    {
      "cell_type": "code",
      "source": [
        "!curl -Lo /content/test/models/Stable-diffusion/ChilloutMix.safetensors https://huggingface.co/josemerinom/test/resolve/main/test_mix.safetensors"
      ],
      "metadata": {
        "id": "glN2M8NIxIm0"
      },
      "execution_count": null,
      "outputs": []
    },
    {
      "cell_type": "code",
      "source": [
        "!curl -Lo /content/test/models/VAE/vae.pt https://huggingface.co/josemerinom/test/resolve/main/test_vae.ckpt"
      ],
      "metadata": {
        "id": "lDOXM7PBhEQb"
      },
      "execution_count": null,
      "outputs": []
    },
    {
      "cell_type": "code",
      "source": [
        "!git clone https://github.com/Mikubill/sd-webui-controlnet /content/test/extensions/sd-webui-controlnet\n",
        "#\n",
        "#!curl -Lo /content/test/extensions/sd-webui-controlnet/models/control_v11e_sd15_ip2p.pth https://huggingface.co/lllyasviel/ControlNet-v1-1/resolve/main/control_v11e_sd15_ip2p.pth\n",
        "#!curl -Lo /content/test/extensions/sd-webui-controlnet/models/control_v11e_sd15_shuffle.pth https://huggingface.co/lllyasviel/ControlNet-v1-1/resolve/main/control_v11e_sd15_shuffle.pth\n",
        "#!curl -Lo /content/test/extensions/sd-webui-controlnet/models/control_v11f1e_sd15_tile.pth https://huggingface.co/lllyasviel/ControlNet-v1-1/resolve/main/control_v11f1e_sd15_tile.pth\n",
        "#!curl -Lo /content/test/extensions/sd-webui-controlnet/models/control_v11f1p_sd15_depth.pth https://huggingface.co/lllyasviel/ControlNet-v1-1/resolve/main/control_v11f1p_sd15_depth.pth\n",
        "#!curl -Lo /content/test/extensions/sd-webui-controlnet/models/control_v11p_sd15_canny.pth https://huggingface.co/lllyasviel/ControlNet-v1-1/resolve/main/control_v11p_sd15_canny.pth\n",
        "#!curl -Lo /content/test/extensions/sd-webui-controlnet/models/control_v11p_sd15_inpaint.pth https://huggingface.co/lllyasviel/ControlNet-v1-1/resolve/main/control_v11p_sd15_inpaint.pth\n",
        "#!curl -Lo /content/test/extensions/sd-webui-controlnet/models/control_v11p_sd15_lineart.pth https://huggingface.co/lllyasviel/ControlNet-v1-1/resolve/main/control_v11p_sd15_lineart.pth\n",
        "#!curl -Lo /content/test/extensions/sd-webui-controlnet/models/control_v11p_sd15_mlsd.pth https://huggingface.co/lllyasviel/ControlNet-v1-1/resolve/main/control_v11p_sd15_mlsd.pth\n",
        "#!curl -Lo /content/test/extensions/sd-webui-controlnet/models/control_v11p_sd15_normalbae.pth https://huggingface.co/lllyasviel/ControlNet-v1-1/resolve/main/control_v11p_sd15_normalbae.pth\n",
        "!curl -Lo /content/test/extensions/sd-webui-controlnet/models/control_v11p_sd15_openpose.pth https://huggingface.co/lllyasviel/ControlNet-v1-1/resolve/main/control_v11p_sd15_openpose.pth\n",
        "#!curl -Lo /content/test/extensions/sd-webui-controlnet/models/control_v11p_sd15_scribble.pth https://huggingface.co/lllyasviel/ControlNet-v1-1/resolve/main/control_v11p_sd15_scribble.pth\n",
        "#!curl -Lo /content/test/extensions/sd-webui-controlnet/models/control_v11p_sd15_seg.pth https://huggingface.co/lllyasviel/ControlNet-v1-1/resolve/main/control_v11p_sd15_seg.pth\n",
        "#!curl -Lo /content/test/extensions/sd-webui-controlnet/models/control_v11p_sd15_softedge.pth https://huggingface.co/lllyasviel/ControlNet-v1-1/resolve/main/control_v11p_sd15_softedge.pth\n",
        "#!curl -Lo /content/test/extensions/sd-webui-controlnet/models/control_v11p_sd15s2_lineart_anime.pth https://huggingface.co/lllyasviel/ControlNet-v1-1/resolve/main/control_v11p_sd15s2_lineart_anime.pth"
      ],
      "metadata": {
        "id": "TOfWcNp8xmCx"
      },
      "execution_count": null,
      "outputs": []
    },
    {
      "cell_type": "code",
      "source": [
        "!mkdir /content/test/models/Lora\n",
        "!curl -Lo /content/test/models/Lora/loradress.safetensors https://huggingface.co/josemerinom/test/resolve/main/test_lora_dress.safetensors"
      ],
      "metadata": {
        "id": "0eHKfm2KxwT6"
      },
      "execution_count": null,
      "outputs": []
    },
    {
      "cell_type": "code",
      "source": [
        "%cd /content/test\n",
        "!COMMANDLINE_ARGS=\"--share --disable-safe-unpickle --no-half-vae --xformers --enable-insecure-extension-access --gradio-queue\" REQS_FILE=\"requirements.txt\" python launch.py"
      ],
      "metadata": {
        "id": "aMZ7SdrSx3Oi"
      },
      "execution_count": null,
      "outputs": []
    }
  ]
}
