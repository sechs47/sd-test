{
  "nbformat": 4,
  "nbformat_minor": 0,
  "metadata": {
    "colab": {
      "provenance": [],
      "gpuType": "T4"
    },
    "kernelspec": {
      "name": "python3",
      "display_name": "Python 3"
    },
    "language_info": {
      "name": "python"
    },
    "accelerator": "GPU"
  },
  "cells": [
    {
      "cell_type": "code",
      "execution_count": null,
      "metadata": {
        "id": "_awkQS9nw5nd",
        "cellView": "form"
      },
      "outputs": [],
      "source": [
        "#@markdown ####1. INSTALAR DE APP\n",
        "from IPython.utils import capture\n",
        "from IPython.display import clear_output\n",
        "print('Iniciando instalacion...')\n",
        "with capture.capture_output() as cap:\n",
        "  %cd /content\n",
        "  %env TF_CPP_MIN_LOG_LEVEL=1\n",
        "  !curl -Lo memfix.zip https://huggingface.co/josemerinom/zyx/resolve/main/memfix.zip\n",
        "  !unzip /content/memfix.zip\n",
        "  !apt -y install -qq libunwind8-dev libcairo2-dev libcairo2-dev pkg-config python3-dev aria2\n",
        "  !dpkg -i *.deb\n",
        "  %env LD_PRELOAD=libtcmalloc.so\n",
        "  !rm *.deb\n",
        "  !pip install torch torchvision torchaudio torchtext torchdata torchmetrics pytorch-lightning xformers triton tensorflow\n",
        "  #APP 1.4.0\n",
        "  !curl -Lo zyx.zip https://huggingface.co/josemerinom/zyx/resolve/main/zyx.zip\n",
        "  !unzip /content/zyx.zip\n",
        "  #CREAR CARPETA LORA\n",
        "  !mkdir /content/zyx/models/Lora\n",
        "  #CREAR CARPETA ESRGAN\n",
        "  !mkdir /content/zyx/models/ESRGAN\n",
        "print('Instalacion OK')"
      ]
    },
    {
      "cell_type": "code",
      "source": [
        "#@markdown ####2. MODELOS\n",
        "ChilloutMix = False #@param {type:\"boolean\"}\n",
        "EpicRealism = False #@param {type:\"boolean\"}\n",
        "GhostMix = False #@param {type:\"boolean\"}\n",
        "RealisticVision = True #@param {type:\"boolean\"}\n",
        "ReVAnimated = False #@param {type:\"boolean\"}\n",
        "Modelo = False\n",
        "\n",
        "if ChilloutMix:\n",
        "  print('Descargando ChilloutMix...')\n",
        "  with capture.capture_output():\n",
        "    !curl -Lo /content/zyx/models/Stable-diffusion/ChilloutMix.safetensors      https://civitai.com/api/download/models/11745\n",
        "  Modelo = True\n",
        "if EpicRealism:\n",
        "  print('Descargando EpicRealism...')\n",
        "  with capture.capture_output():\n",
        "    !curl -Lo /content/zyx/models/Stable-diffusion/EpicRealism.safetensors      https://civitai.com/api/download/models/105035\n",
        "  Modelo = True\n",
        "if GhostMix:\n",
        "  print('Descargando GhostMix...')\n",
        "  with capture.capture_output():\n",
        "    !curl -Lo /content/zyx/models/Stable-diffusion/GhostMix.safetensors         https://civitai.com/api/download/models/76907\n",
        "  Modelo = True\n",
        "if RealisticVision:\n",
        "  print('Descargando RealisticVision...')\n",
        "  with capture.capture_output():\n",
        "    !curl -Lo /content/zyx/models/Stable-diffusion/RealisticVision.safetensors  https://civitai.com/api/download/models/105674\n",
        "  Modelo = True\n",
        "if ReVAnimated:\n",
        "  print('Descargando ReVAnimated...')\n",
        "  with capture.capture_output():\n",
        "    !curl -Lo /content/zyx/models/Stable-diffusion/ReVAnimated.safetensors      https://civitai.com/api/download/models/46846\n",
        "  Modelo = True\n",
        "if Modelo == False:\n",
        "  print('Descargando (Por Defecto) RealisticVision...')\n",
        "  with capture.capture_output():\n",
        "    !curl -Lo /content/zyx/models/Stable-diffusion/RealisticVision.safetensors  https://civitai.com/api/download/models/105674\n",
        "print('Descarga OK')"
      ],
      "metadata": {
        "id": "C-q93KLssClX",
        "cellView": "form"
      },
      "execution_count": null,
      "outputs": []
    },
    {
      "cell_type": "code",
      "source": [
        "#@markdown ####3. VAE (Opcional)\n",
        "print('Descargando Vae')\n",
        "with capture.capture_output():\n",
        "  !curl -Lo /content/zyx/models/VAE/vae.ckpt https://huggingface.co/josemerinom/models/resolve/main/baseVae.ckpt\n",
        "print('Descarga OK')"
      ],
      "metadata": {
        "cellView": "form",
        "id": "MNo5x-Ci1kNc"
      },
      "execution_count": null,
      "outputs": []
    },
    {
      "cell_type": "code",
      "source": [
        "#@markdown ####4. CONTROLNET [OpenPose+Tile] (Opcional)\n",
        "print('Descargando ControlNet...')\n",
        "with capture.capture_output():\n",
        "  !curl -Lo /content/zyx/extensions/control.zip https://huggingface.co/josemerinom/zyx/resolve/main/control.zip\n",
        "  %cd /content/zyx/extensions\n",
        "  !unzip /content/zyx/extensions/control.zip\n",
        "print('Descargando OpenPose...')\n",
        "with capture.capture_output():\n",
        "  !curl -Lo /content/zyx/extensions/control/models/control_v11p_sd15_openpose.pth https://huggingface.co/josemerinom/zyx/resolve/main/control_v11p_sd15_openpose.pth\n",
        "print('Descargando Tile...')\n",
        "with capture.capture_output():\n",
        "  !curl -Lo /content/zyx/extensions/control/models/control_v11f1e_sd15_tile.pth https://huggingface.co/josemerinom/zyx/resolve/main/control_v11f1e_sd15_tile.pth\n",
        "print('Descarga OK')"
      ],
      "metadata": {
        "cellView": "form",
        "id": "U-LlV2PmvlH1"
      },
      "execution_count": null,
      "outputs": []
    },
    {
      "cell_type": "code",
      "source": [
        "#@markdown ####5. EXTRAS [UltimateUpscale/4xUltraSharp/Roop] (Opcional)\n",
        "print('Descargando UltimateUpscale')\n",
        "with capture.capture_output():\n",
        "  !curl -Lo /content/zyx/scripts/ultimate-upscale.py https://huggingface.co/josemerinom/zyx/resolve/main/ultimate-upscale.py\n",
        "print('Descargando 4xUltraSharp')\n",
        "with capture.capture_output():\n",
        "  !curl -Lo /content/zyx/models/ESRGAN/4x-UltraSharp.pth https://huggingface.co/josemerinom/zyx/resolve/main/4x-UltraSharp.pth\n",
        "print('Descargando Roop')\n",
        "with capture.capture_output():\n",
        "  !pip install insightface\n",
        "  !curl -Lo /content/zyx/extensions/roop.zip https://huggingface.co/josemerinom/zyx/resolve/main/roop.zip\n",
        "  %cd /content/zyx/extensions\n",
        "  !unzip /content/zyx/extensions/roop.zip\n",
        "print('Descarga OK')"
      ],
      "metadata": {
        "cellView": "form",
        "id": "V_b_0amh1UZl"
      },
      "execution_count": null,
      "outputs": []
    },
    {
      "cell_type": "code",
      "source": [
        "#@markdown ####6. LORA [easynegative] (En construccion...)\n",
        "print('Descargando easynegative')\n",
        "with capture.capture_output():\n",
        " !curl -Lo /content/zyx/models/Lora/easynegative.safetensors https://civitai.com/api/download/models/9208\n",
        "print('Descarga OK')"
      ],
      "metadata": {
        "id": "bjbA8NQMsLQD",
        "cellView": "form"
      },
      "execution_count": null,
      "outputs": []
    },
    {
      "cell_type": "code",
      "source": [
        "#@markdown ####7. INICIAR APP\n",
        "%cd /content/zyx\n",
        "!COMMANDLINE_ARGS=\"--share --disable-safe-unpickle --xformers --no-half-vae --enable-insecure-extension-access --gradio-queue\" python launch.py"
      ],
      "metadata": {
        "id": "rTaWaKCBDyCJ",
        "cellView": "form"
      },
      "execution_count": null,
      "outputs": []
    }
  ]
}