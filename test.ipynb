{
  "nbformat": 4,
  "nbformat_minor": 0,
  "metadata": {
    "colab": {
      "provenance": [],
      "gpuType": "T4"
    },
    "kernelspec": {
      "name": "python3",
      "display_name": "Python 3"
    },
    "language_info": {
      "name": "python"
    }
  },
  "cells": [
    {
      "cell_type": "code",
      "execution_count": null,
      "metadata": {
        "id": "_awkQS9nw5nd",
        "cellView": "form"
      },
      "outputs": [],
      "source": [
        "#@markdown ####1. INSTALAR DE APP\n",
        "print('INICIANDO INSTALACION...')\n",
        "from IPython.utils import capture\n",
        "from IPython.display import clear_output\n",
        "!pip install wget\n",
        "%cd /content\n",
        "%env TF_CPP_MIN_LOG_LEVEL=1\n",
        "import os\n",
        "import wget\n",
        "!wget https://huggingface.co/josemerinom/zyx/resolve/main/memfix.zip --content-disposition -P /content/\n",
        "!unzip /content/memfix.zip\n",
        "!apt -y install -qq libunwind8-dev libcairo2-dev libcairo2-dev pkg-config python3-dev aria2\n",
        "!dpkg -i *.deb\n",
        "%env LD_PRELOAD=libtcmalloc.so\n",
        "!rm *.deb\n",
        "!pip install torch torchvision torchaudio torchtext torchdata torchmetrics pytorch-lightning xformers triton tensorflow\n",
        "#APP 1.4.0\n",
        "!wget https://huggingface.co/josemerinom/zyx/resolve/main/zyx.zip --content-disposition -P /content/\n",
        "!unzip /content/zyx.zip\n",
        "#CREAR CARPETA LORA\n",
        "!mkdir /content/zyx/models/Lora\n",
        "#CREAR CARPETA ESRGAN\n",
        "!mkdir /content/zyx/models/ESRGAN\n",
        "clear_output()\n",
        "print('INSTALACION OK')"
      ]
    },
    {
      "cell_type": "code",
      "source": [
        "#@markdown ####2. MODELOS\n",
        "ChilloutMix = False #@param {type:\"boolean\"}\n",
        "EpicRealism = False #@param {type:\"boolean\"}\n",
        "GhostMix = False #@param {type:\"boolean\"}\n",
        "RealisticVision = True #@param {type:\"boolean\"}\n",
        "Link_Modelo = \"\" #@param {type:\"string\"}\n",
        "if ChilloutMix:\n",
        "  print('DESCARGANDO CHILLOUTMIX...')\n",
        "  !wget https://civitai.com/api/download/models/11745   --content-disposition -P /content/zyx/models/Stable-diffusion/\n",
        "if EpicRealism:\n",
        "  print('DESCARGANDO EPICREALISM...')\n",
        "  !wget https://civitai.com/api/download/models/105035  --content-disposition -P /content/zyx/models/Stable-diffusion/\n",
        "if GhostMix:\n",
        "  print('DESCARGANDO GHOSTMIX...')\n",
        "  !wget https://civitai.com/api/download/models/76907   --content-disposition -P /content/zyx/models/Stable-diffusion/\n",
        "if RealisticVision:\n",
        "  print('DESCARGANDO REALISTICVISION...')\n",
        "  !wget https://civitai.com/api/download/models/105674  --content-disposition -P /content/zyx/models/Stable-diffusion/\n",
        "if Link_Modelo != \"\":\n",
        "  print('DESCARGANDO LINK MODELO...')\n",
        "  !wget $Link_Modelo --content-disposition -P /content/zyx/models/Stable-diffusion/\n",
        "if len(os.listdir(\"/content/zyx/models/Stable-diffusion\")) == 0:\n",
        "  clear_output()\n",
        "  print('DESCARGANDO (POR DEFECTO) REALISTICVISION...')\n",
        "  !wget https://civitai.com/api/download/models/105674  --content-disposition -P /content/zyx/models/Stable-diffusion/\n",
        "clear_output()\n",
        "print('DESCARGA OK')"
      ],
      "metadata": {
        "id": "C-q93KLssClX",
        "cellView": "form"
      },
      "execution_count": null,
      "outputs": []
    },
    {
      "cell_type": "code",
      "source": [
        "#@markdown ####3. VAE (Opcional)\n",
        "print('DESCARGANDO VAE')\n",
        "!wget https://huggingface.co/josemerinom/models/resolve/main/Vae.ckpt --content-disposition -P /content/zyx/models/VAE/\n",
        "clear_output()\n",
        "print('DESCARGA OK')"
      ],
      "metadata": {
        "cellView": "form",
        "id": "MNo5x-Ci1kNc"
      },
      "execution_count": null,
      "outputs": []
    },
    {
      "cell_type": "code",
      "source": [
        "#@markdown ####4. CONTROLNET+[OpenPose&Tile] (Opcional)\n",
        "print('DESCARGANDO CONTROLNET...')\n",
        "!wget https://huggingface.co/josemerinom/zyx/resolve/main/control.zip --content-disposition -P /content/zyx/extensions/\n",
        "%cd /content/zyx/extensions\n",
        "!unzip /content/zyx/extensions/control.zip\n",
        "print('DESCARGANDO OPENPOSE...')\n",
        "!wget https://huggingface.co/josemerinom/zyx/resolve/main/control_v11p_sd15_openpose.pth  --content-disposition -P /content/zyx/extensions/control/models/\n",
        "print('DESCARGANDO TILE...')\n",
        "!wget https://huggingface.co/josemerinom/zyx/resolve/main/control_v11f1e_sd15_tile.pth    --content-disposition -P /content/zyx/extensions/control/models/\n",
        "clear_output()\n",
        "print('DESCARGA OK')"
      ],
      "metadata": {
        "cellView": "form",
        "id": "U-LlV2PmvlH1"
      },
      "execution_count": null,
      "outputs": []
    },
    {
      "cell_type": "code",
      "source": [
        "#@markdown ####5. EXTRAS [UltimateUpscale/4xUltraSharp/easynegative/Roop] (Opcional)\n",
        "print('DESCARGANDO ULTIMATEUPSCALE')\n",
        "!wget https://huggingface.co/josemerinom/zyx/resolve/main/ultimate-upscale.py --content-disposition -P /content/zyx/scripts/\n",
        "print('DESCARGANDO 4XULTRASHARP')\n",
        "!wget https://huggingface.co/josemerinom/zyx/resolve/main/4x-UltraSharp.pth   --content-disposition -P /content/zyx/models/ESRGAN/\n",
        "print('DESCARGANDO EASYNEGATIVE')\n",
        "!wget https://civitai.com/api/download/models/9208                            --content-disposition -P /content/zyx/embeddings\n",
        "print('DESCARGANDO ROOP')\n",
        "!pip install insightface\n",
        "!wget https://huggingface.co/josemerinom/zyx/resolve/main/roop.zip            --content-disposition -P /content/zyx/extensions/\n",
        "%cd /content/zyx/extensions\n",
        "!unzip /content/zyx/extensions/roop.zip\n",
        "clear_output()\n",
        "print('DESCARGA OK')"
      ],
      "metadata": {
        "cellView": "form",
        "id": "V_b_0amh1UZl"
      },
      "execution_count": null,
      "outputs": []
    },
    {
      "cell_type": "code",
      "source": [
        "#@markdown ####6. LORA\n",
        "Link_Lora_1 = \"\" #@param {type:\"string\"}\n",
        "Link_Lora_2 = \"\" #@param {type:\"string\"}\n",
        "Link_Lora_3 = \"\" #@param {type:\"string\"}\n",
        "Link_Lora_4 = \"\" #@param {type:\"string\"}\n",
        "Link_Lora_5 = \"\" #@param {type:\"string\"}\n",
        "if Link_Lora_1 != \"\":\n",
        "  print('DESCARGANDO LINK 1...')\n",
        "  !wget $Link_Lora_1 --content-disposition -P /content/zyx/models/Lora\n",
        "if Link_Lora_2 != \"\":\n",
        "  print('DESCARGANDO LINK 2...')\n",
        "  !wget $Link_Lora_2 --content-disposition -P /content/zyx/models/Lora\n",
        "if Link_Lora_3 != \"\":\n",
        "  print('DESCARGANDO LINK 3...')\n",
        "  !wget $Link_Lora_3 --content-disposition -P /content/zyx/models/Lora\n",
        "if Link_Lora_4 != \"\":\n",
        "  print('DESCARGANDO LINK 4...')\n",
        "  !wget $Link_Lora_4 --content-disposition -P /content/zyx/models/Lora\n",
        "if Link_Lora_5 != \"\":\n",
        "  print('DESCARGANDO LINK 5...')\n",
        "  !wget $Link_Lora_5 --content-disposition -P /content/zyx/models/Lora\n",
        "clear_output()\n",
        "print('Descarga OK')"
      ],
      "metadata": {
        "id": "bjbA8NQMsLQD",
        "cellView": "form"
      },
      "execution_count": null,
      "outputs": []
    },
    {
      "cell_type": "code",
      "source": [
        "#@markdown ####7. INICIAR APP\n",
        "%cd /content/zyx\n",
        "!COMMANDLINE_ARGS=\"--share --disable-safe-unpickle --xformers --no-half-vae --enable-insecure-extension-access --gradio-queue\" python launch.py"
      ],
      "metadata": {
        "id": "rTaWaKCBDyCJ",
        "cellView": "form"
      },
      "execution_count": null,
      "outputs": []
    }
  ]
}