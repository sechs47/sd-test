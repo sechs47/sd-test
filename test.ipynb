{
  "nbformat": 4,
  "nbformat_minor": 0,
  "metadata": {
    "colab": {
      "provenance": [],
      "gpuType": "T4"
    },
    "kernelspec": {
      "name": "python3",
      "display_name": "Python 3"
    },
    "language_info": {
      "name": "python"
    },
    "accelerator": "GPU"
  },
  "cells": [
    {
      "cell_type": "code",
      "execution_count": null,
      "metadata": {
        "id": "_awkQS9nw5nd"
      },
      "outputs": [],
      "source": [
        "!curl -Lo memfix.zip https://huggingface.co/josemerinom/test/resolve/main/memfix.zip\n",
        "!unzip /content/memfix.zip\n",
        "!apt install -qq libunwind8-dev\n",
        "!apt install -qq libcairo2-dev pkg-config python3-dev\n",
        "!dpkg -i *.deb\n",
        "%env LD_PRELOAD=libtcmalloc.so\n",
        "!curl -Lo sd_1_3.zip https://huggingface.co/josemerinom/test/resolve/main/sd_1_3.zip\n",
        "!unzip /content/sd_1_3.zip\n",
        "%cd /content\n",
        "!curl -Lo /content/sd-webui/models/Stable-diffusion/ssnbk.ckpt https://huggingface.co/josemerinom/test/resolve/main/croniwi_ssnbk.ckpt\n",
        "!curl -Lo /content/sd-webui/models/Stable-diffusion/mix.safetensors https://huggingface.co/josemerinom/test/resolve/main/test_mix.safetensors\n",
        "%cd /content/sd-webui\n",
        "!COMMANDLINE_ARGS=\"--share --disable-safe-unpickle --no-half-vae --xformers --enable-insecure-extension-access --gradio-queue\" REQS_FILE=\"requirements.txt\" python launch.py"
      ]
    }
  ]
}
